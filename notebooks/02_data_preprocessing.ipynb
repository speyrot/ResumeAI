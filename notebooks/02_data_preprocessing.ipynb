{
 "cells": [
  {
   "cell_type": "code",
   "execution_count": 3,
   "metadata": {},
   "outputs": [
    {
     "name": "stderr",
     "output_type": "stream",
     "text": [
      "[nltk_data] Downloading package punkt to /Users/spencer/nltk_data...\n",
      "[nltk_data]   Package punkt is already up-to-date!\n",
      "[nltk_data] Downloading package stopwords to\n",
      "[nltk_data]     /Users/spencer/nltk_data...\n",
      "[nltk_data]   Package stopwords is already up-to-date!\n"
     ]
    }
   ],
   "source": [
    "# Import the necessary libraries\n",
    "import pandas as pd\n",
    "import seaborn as sns\n",
    "import matplotlib.pyplot as plt\n",
    "import re\n",
    "import nltk\n",
    "from nltk.corpus import stopwords\n",
    "from nltk.tokenize import word_tokenize\n",
    "\n",
    "# Download necessary NLTK resources\n",
    "nltk.download('punkt')\n",
    "nltk.download('stopwords')\n",
    "\n",
    "# Set the display option to show more text\n",
    "pd.set_option('display.max_colwidth', None)\n",
    "\n",
    "# Define the path to the dataset and load it\n",
    "dataset_path = '../data/raw/Resume.csv'\n",
    "df = pd.read_csv(dataset_path)\n",
    "\n",
    "# Display the first few entries for reference\n",
    "df.head()\n",
    "\n",
    "# Function to clean the text\n",
    "def clean_text(text):\n",
    "    # Remove HTML tags\n",
    "    text = re.sub(r'<[^>]*>', '', text)\n",
    "    # Remove punctuation and numbers\n",
    "    text = re.sub(r'[^a-zA-Z\\s]', '', text)\n",
    "    # Convert to lowercase\n",
    "    text = text.lower()\n",
    "    # Tokenize and remove stopwords\n",
    "    tokens = word_tokenize(text)\n",
    "    filtered_tokens = [token for token in tokens if token not in set(stopwords.words('english'))]\n",
    "    # Rejoin tokens into string\n",
    "    text = ' '.join(filtered_tokens)\n",
    "    return text\n",
    "\n",
    "# Clean the resume text\n",
    "df['cleaned_resume'] = df['Resume_str'].apply(clean_text)\n",
    "\n",
    "# Display the cleaned text for verification\n",
    "df[['Resume_str', 'cleaned_resume']].head()\n",
    "\n",
    "# Save the cleaned data to the interim folder\n",
    "cleaned_dataset_path = '../data/interim/cleaned_resumes.csv'\n",
    "df.to_csv(cleaned_dataset_path, index=False)\n",
    "\n",
    "# Combine all text into one large string and tokenize\n",
    "all_text = ' '.join(df['cleaned_resume'])\n",
    "all_tokens = word_tokenize(all_text)\n",
    "\n",
    "# Count and display the most common words\n",
    "word_freq = nltk.FreqDist(all_tokens)\n",
    "most_common_words = word_freq.most_common(20)\n",
    "print(most_common_words)\n",
    "\n",
    "# Plot the most common words for visualization\n",
    "sns.barplot(x=[count for word, count in most_common_words], y=[word for word, count in most_common_words])\n",
    "plt.title('Top 20 Most Common Words in Resumes')\n",
    "plt.xlabel('Frequency')\n",
    "plt.ylabel('Words')\n",
    "plt.show()"
   ]
  }
 ],
 "metadata": {
  "kernelspec": {
   "display_name": "Python 3",
   "language": "python",
   "name": "python3"
  },
  "language_info": {
   "codemirror_mode": {
    "name": "ipython",
    "version": 3
   },
   "file_extension": ".py",
   "mimetype": "text/x-python",
   "name": "python",
   "nbconvert_exporter": "python",
   "pygments_lexer": "ipython3",
   "version": "3.9.6"
  }
 },
 "nbformat": 4,
 "nbformat_minor": 2
}
